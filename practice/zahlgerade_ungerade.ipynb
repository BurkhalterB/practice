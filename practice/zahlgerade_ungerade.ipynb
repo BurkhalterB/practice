{
 "cells": [
  {
   "cell_type": "code",
   "execution_count": 1,
   "metadata": {},
   "outputs": [],
   "source": [
    "#Gerade oder ungerade Zahl ausgeben"
   ]
  },
  {
   "cell_type": "code",
   "execution_count": 2,
   "metadata": {},
   "outputs": [
    {
     "name": "stdin",
     "output_type": "stream",
     "text": [
      "Bitte nenne mir eine Zahl:  4\n"
     ]
    }
   ],
   "source": [
    "zahl = int(input(\"Bitte nenne mir eine Zahl: \"))"
   ]
  },
  {
   "cell_type": "code",
   "execution_count": 3,
   "metadata": {},
   "outputs": [],
   "source": [
    "ergebnis = zahl % 2"
   ]
  },
  {
   "cell_type": "code",
   "execution_count": 4,
   "metadata": {},
   "outputs": [
    {
     "name": "stdout",
     "output_type": "stream",
     "text": [
      "Dies ist eine gerade Zahl\n"
     ]
    }
   ],
   "source": [
    "if ergebnis > 0:\n",
    "    print(\"Dies ist eine ungerade Zahl\")\n",
    "else:\n",
    "    print(\"Dies ist eine gerade Zahl\")"
   ]
  },
  {
   "cell_type": "code",
   "execution_count": null,
   "metadata": {},
   "outputs": [],
   "source": []
  },
  {
   "cell_type": "code",
   "execution_count": 1,
   "metadata": {},
   "outputs": [],
   "source": [
    "#Gerade oder ungerade Zahl ausgeben, Falls Zahl durch 4 teilbar zusätzliche Info"
   ]
  },
  {
   "cell_type": "code",
   "execution_count": 1,
   "metadata": {},
   "outputs": [
    {
     "name": "stdin",
     "output_type": "stream",
     "text": [
      "Bitte nenne mir eine Zahl:  5\n"
     ]
    }
   ],
   "source": [
    "zahl = int(input(\"Bitte nenne mir eine Zahl: \"))"
   ]
  },
  {
   "cell_type": "code",
   "execution_count": 2,
   "metadata": {},
   "outputs": [],
   "source": [
    "ergebnis = zahl % 2"
   ]
  },
  {
   "cell_type": "code",
   "execution_count": 3,
   "metadata": {},
   "outputs": [
    {
     "name": "stdout",
     "output_type": "stream",
     "text": [
      "Dies ist eine ungerade Zahl\n"
     ]
    }
   ],
   "source": [
    "if ergebnis > 0:\n",
    "    print(\"Dies ist eine ungerade Zahl\")\n",
    "elif ergebnis / 4 == 0:\n",
    "    print(\"Diese Zahl ist durch 4 teilbar\")\n",
    "else:\n",
    "    print(\"Dies ist eine gerade Zahl\")"
   ]
  },
  {
   "cell_type": "code",
   "execution_count": null,
   "metadata": {},
   "outputs": [],
   "source": []
  }
 ],
 "metadata": {
  "kernelspec": {
   "display_name": "Python 3",
   "language": "python",
   "name": "python3"
  },
  "language_info": {
   "codemirror_mode": {
    "name": "ipython",
    "version": 3
   },
   "file_extension": ".py",
   "mimetype": "text/x-python",
   "name": "python",
   "nbconvert_exporter": "python",
   "pygments_lexer": "ipython3",
   "version": "3.7.4"
  }
 },
 "nbformat": 4,
 "nbformat_minor": 4
}
